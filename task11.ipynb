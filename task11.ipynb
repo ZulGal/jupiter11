{
 "cells": [
  {
   "cell_type": "code",
   "execution_count": 1,
   "metadata": {},
   "outputs": [
    {
     "name": "stdout",
     "output_type": "stream",
     "text": [
      "Reinitialized existing Git repository in /home/svetlana/geekbrains1/task11/.git/\n",
      "On branch master\n",
      "\n",
      "No commits yet\n",
      "\n",
      "Untracked files:\n",
      "  (use \"git add <file>...\" to include in what will be committed)\n",
      "\n",
      "\t\u001b[31m.gitignore\u001b[m\n",
      "\t\u001b[31m.ipynb_checkpoints/\u001b[m\n",
      "\t\u001b[31mtask11.ipynb\u001b[m\n",
      "\n",
      "nothing added to commit but untracked files present (use \"git add\" to track)\n"
     ]
    }
   ],
   "source": [
    "!git init\n",
    "!touch .gitignore\n",
    "!git status"
   ]
  },
  {
   "cell_type": "code",
   "execution_count": 2,
   "metadata": {},
   "outputs": [
    {
     "name": "stdout",
     "output_type": "stream",
     "text": [
      "-6.32 -3.25 0.41\n"
     ]
    }
   ],
   "source": [
    "from sympy import *\n",
    "from sympy.abc import *\n",
    "from sympy.plotting import plot\n",
    "a = 0.6 \n",
    "b = 5.5\n",
    "c = 10\n",
    "d = -5\n",
    "x = Symbol('x')\n",
    "y = a*x**3 +b*x**2 +c*x + d\n",
    "x1,x2,x3 = solve(y,x)\n",
    "x1 = round(x1,2)\n",
    "x2 = round(x2,2)\n",
    "x3 = round(x3,2)\n",
    "print(x1,x2,x3)  "
   ]
  },
  {
   "cell_type": "code",
   "execution_count": 3,
   "metadata": {},
   "outputs": [
    {
     "name": "stdout",
     "output_type": "stream",
     "text": [
      "1.8*x**2 + 11.0*x + 10\n",
      "-5.00000000000000 -1.11\n",
      "0.e+0*x**2 + 0.e+1*x + 0.e+1\n"
     ]
    }
   ],
   "source": [
    "z = diff(y)\n",
    "print (z)\n",
    "z1,z2 = solve(z,x)\n",
    "if a*z1**3 +b*z1**2 +c*z1 + d>a*z2**3 +b*z2**2 +c*z2 + d:\n",
    "    xmax = round(z1,2)\n",
    "    xmin = round(z2,2)\n",
    "else:\n",
    "    xmax = round(z2,2)\n",
    "    xmin = round(z1,2)\n",
    "print(xmax,xmin)\n",
    "print(z.evalf(x1))"
   ]
  },
  {
   "cell_type": "code",
   "execution_count": 4,
   "metadata": {},
   "outputs": [
    {
     "name": "stdout",
     "output_type": "stream",
     "text": [
      "1.8*x**2 + 11.0*x + 10\n"
     ]
    },
    {
     "data": {
      "image/png": "[encoded data removed]",
      "text/plain": [
       "<Figure size 432x288 with 1 Axes>"
      ]
     },
     "metadata": {
      "needs_background": "light"
     },
     "output_type": "display_data"
    },
    {
     "data": {
      "text/plain": [
       "<sympy.plotting.plot.Plot at 0x7fea6bdaea30>"
      ]
     },
     "execution_count": 4,
     "metadata": {},
     "output_type": "execute_result"
    }
   ],
   "source": [
    "import numpy as np\n",
    "from sympy.plotting import *\n",
    "a = 0.6 \n",
    "b = 5.5\n",
    "c = 10\n",
    "d = -5\n",
    "y = a*x**3 +b*x**2 +c*x + d\n",
    "print(z)\n",
    "x = Symbol('x')\n",
    "plot((y),(z),xlim=[-10,5], ylim=[-15,10])"
   ]
  },
  {
   "cell_type": "code",
   "execution_count": 5,
   "metadata": {},
   "outputs": [
    {
     "name": "stdout",
     "output_type": "stream",
     "text": [
      "Функция возрастает(-oo,-5.00000000000000) (-1.11,oo)\n",
      "Функция убывает (-5.00000000000000,-1.11)\n",
      "Максимум функции = 7.50000000000000\n",
      "Минимум функции = -10.1439941406250\n",
      "Функция положительна ((-6.32, -3.25),(0.41,oo)\n",
      "Функция отрицательна (-oo,-6.32,(-3.25,0.41)\n"
     ]
    }
   ],
   "source": [
    "print(f'Функция возрастает(-oo,{xmax}) ({xmin},oo)')\n",
    "print(f'Функция убывает ({xmax},{xmin})')  \n",
    "\n",
    "ymax = 0.6*xmax**3 + 5.5*xmax**2 + 10*xmax - 5\n",
    "ymin = 0.6*xmin**3 + 5.5*xmin**2 + 10*xmin - 5\n",
    "print(f'Максимум функции = {ymax}')\n",
    "print(f'Минимум функции = {ymin}')\n",
    "\n",
    "print(f'Функция положительна ({x1,x2},({x3},oo)')\n",
    "print(f'Функция отрицательна (-oo,{x1},({x2},{x3})')"
   ]
  },
  {
   "cell_type": "code",
   "execution_count": 6,
   "metadata": {},
   "outputs": [
    {
     "name": "stdout",
     "output_type": "stream",
     "text": [
      "On branch master\r\n",
      "\r\n",
      "No commits yet\r\n",
      "\r\n",
      "Untracked files:\r\n",
      "  (use \"git add <file>...\" to include in what will be committed)\r\n",
      "\r\n",
      "\t\u001b[31m.gitignore\u001b[m\r\n",
      "\t\u001b[31m.ipynb_checkpoints/\u001b[m\r\n",
      "\t\u001b[31mtask11.ipynb\u001b[m\r\n",
      "\r\n",
      "nothing added to commit but untracked files present (use \"git add\" to track)\r\n"
     ]
    }
   ],
   "source": [
    "!git status"
   ]
  },
  {
   "cell_type": "code",
   "execution_count": 7,
   "metadata": {},
   "outputs": [],
   "source": [
    "!git add task11.ipynb\n"
   ]
  },
  {
   "cell_type": "code",
   "execution_count": null,
   "metadata": {},
   "outputs": [],
   "source": []
  }
 ],
 "metadata": {
  "kernelspec": {
   "display_name": "Python 3",
   "language": "python",
   "name": "python3"
  },
  "language_info": {
   "codemirror_mode": {
    "name": "ipython",
    "version": 3
   },
   "file_extension": ".py",
   "mimetype": "text/x-python",
   "name": "python",
   "nbconvert_exporter": "python",
   "pygments_lexer": "ipython3",
   "version": "3.8.5"
  }
 },
 "nbformat": 4,
 "nbformat_minor": 4
}
